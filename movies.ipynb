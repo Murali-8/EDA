{
 "cells": [
  {
   "cell_type": "markdown",
   "metadata": {},
   "source": [
    "# Exploratory Data Analysis on Movies Dataset"
   ]
  },
  {
   "cell_type": "markdown",
   "metadata": {},
   "source": [
    "### Importing the necessary libraries "
   ]
  },
  {
   "cell_type": "code",
   "execution_count": 54,
   "metadata": {},
   "outputs": [],
   "source": [
    "import numpy as np \n",
    "import pandas as pd\n",
    "import matplotlib.pyplot as plt\n",
    "import seaborn as sns\n",
    "import warnings\n",
    "warnings.filterwarnings('ignore')\n",
    "\n",
    "from datetime import datetime\n",
    "pd.set_option(\"display.max_Columns\", None)"
   ]
  },
  {
   "cell_type": "code",
   "execution_count": 55,
   "metadata": {},
   "outputs": [],
   "source": [
    "data = pd.read_csv(\"movies.csv\")\n",
    "df = data.copy()"
   ]
  },
  {
   "cell_type": "markdown",
   "metadata": {},
   "source": [
    "### Reading and taking a copy of the dataset"
   ]
  },
  {
   "cell_type": "code",
   "execution_count": 56,
   "metadata": {},
   "outputs": [
    {
     "data": {
      "text/html": [
       "<div>\n",
       "<style scoped>\n",
       "    .dataframe tbody tr th:only-of-type {\n",
       "        vertical-align: middle;\n",
       "    }\n",
       "\n",
       "    .dataframe tbody tr th {\n",
       "        vertical-align: top;\n",
       "    }\n",
       "\n",
       "    .dataframe thead th {\n",
       "        text-align: right;\n",
       "    }\n",
       "</style>\n",
       "<table border=\"1\" class=\"dataframe\">\n",
       "  <thead>\n",
       "    <tr style=\"text-align: right;\">\n",
       "      <th></th>\n",
       "      <th>id</th>\n",
       "      <th>title</th>\n",
       "      <th>genres</th>\n",
       "      <th>original_language</th>\n",
       "      <th>overview</th>\n",
       "      <th>popularity</th>\n",
       "      <th>production_companies</th>\n",
       "      <th>release_date</th>\n",
       "      <th>budget</th>\n",
       "      <th>revenue</th>\n",
       "      <th>runtime</th>\n",
       "      <th>status</th>\n",
       "      <th>tagline</th>\n",
       "      <th>vote_average</th>\n",
       "      <th>vote_count</th>\n",
       "      <th>credits</th>\n",
       "      <th>keywords</th>\n",
       "    </tr>\n",
       "  </thead>\n",
       "  <tbody>\n",
       "    <tr>\n",
       "      <th>0</th>\n",
       "      <td>675353</td>\n",
       "      <td>Sonic the Hedgehog 2</td>\n",
       "      <td>Action-Science Fiction-Comedy-Family-Adventure</td>\n",
       "      <td>en</td>\n",
       "      <td>After settling in Green Hills Sonic is eager t...</td>\n",
       "      <td>6852.303</td>\n",
       "      <td>SEGA-Original Film-Blur Studios-Marza Animatio...</td>\n",
       "      <td>30-03-2022</td>\n",
       "      <td>110000000</td>\n",
       "      <td>355200000</td>\n",
       "      <td>122.0</td>\n",
       "      <td>Released</td>\n",
       "      <td>Welcome to the next level.</td>\n",
       "      <td>7.7</td>\n",
       "      <td>1465</td>\n",
       "      <td>Ben Schwartz-Idris Elba-Colleen O'Shaughnessey...</td>\n",
       "      <td>sequel-based on video game-hedgehog-live actio...</td>\n",
       "    </tr>\n",
       "    <tr>\n",
       "      <th>1</th>\n",
       "      <td>752623</td>\n",
       "      <td>The Lost City</td>\n",
       "      <td>Action-Adventure-Comedy-Romance</td>\n",
       "      <td>en</td>\n",
       "      <td>A reclusive romance novelist who was sure noth...</td>\n",
       "      <td>5805.799</td>\n",
       "      <td>Paramount-Fortis Films-3dot Productions-Exhibi...</td>\n",
       "      <td>24-03-2022</td>\n",
       "      <td>74000000</td>\n",
       "      <td>164289828</td>\n",
       "      <td>112.0</td>\n",
       "      <td>Released</td>\n",
       "      <td>The adventure is real. The heroes are not.</td>\n",
       "      <td>6.7</td>\n",
       "      <td>604</td>\n",
       "      <td>Sandra Bullock-Channing Tatum-Daniel Radcliffe...</td>\n",
       "      <td>duringcreditsstinger</td>\n",
       "    </tr>\n",
       "    <tr>\n",
       "      <th>2</th>\n",
       "      <td>335787</td>\n",
       "      <td>Uncharted</td>\n",
       "      <td>Action-Adventure</td>\n",
       "      <td>en</td>\n",
       "      <td>A young street-smart Nathan Drake and his wise...</td>\n",
       "      <td>3581.549</td>\n",
       "      <td>Columbia Pictures-Atlas Entertainment-PlayStat...</td>\n",
       "      <td>10-02-2022</td>\n",
       "      <td>120000000</td>\n",
       "      <td>395124202</td>\n",
       "      <td>116.0</td>\n",
       "      <td>Released</td>\n",
       "      <td>Fortune favors the bold.</td>\n",
       "      <td>7.2</td>\n",
       "      <td>1981</td>\n",
       "      <td>Tom Holland-Mark Wahlberg-Sophia Ali-Tati Gabr...</td>\n",
       "      <td>treasure-treasure hunt-based on video game</td>\n",
       "    </tr>\n",
       "    <tr>\n",
       "      <th>3</th>\n",
       "      <td>639933</td>\n",
       "      <td>The Northman</td>\n",
       "      <td>Action-Adventure-Drama-Fantasy-Thriller</td>\n",
       "      <td>en</td>\n",
       "      <td>Prince Amleth is on the verge of becoming a ma...</td>\n",
       "      <td>3451.658</td>\n",
       "      <td>New Regency Pictures-Focus Features-Perfect Wo...</td>\n",
       "      <td>07-04-2022</td>\n",
       "      <td>70000000</td>\n",
       "      <td>58120000</td>\n",
       "      <td>137.0</td>\n",
       "      <td>Released</td>\n",
       "      <td>Conquer your fate.</td>\n",
       "      <td>7.6</td>\n",
       "      <td>926</td>\n",
       "      <td>Alexander Skarsgård-Nicole Kidman-Claes Bang-E...</td>\n",
       "      <td>sword-father murder-prince-iceland-viking-nort...</td>\n",
       "    </tr>\n",
       "    <tr>\n",
       "      <th>4</th>\n",
       "      <td>414906</td>\n",
       "      <td>The Batman</td>\n",
       "      <td>Crime-Mystery-Thriller</td>\n",
       "      <td>en</td>\n",
       "      <td>In his second year of fighting crime Batman un...</td>\n",
       "      <td>3419.546</td>\n",
       "      <td>6th &amp; Idaho-Dylan Clark Productions-DC Films-W...</td>\n",
       "      <td>01-03-2022</td>\n",
       "      <td>185000000</td>\n",
       "      <td>768442517</td>\n",
       "      <td>176.0</td>\n",
       "      <td>Released</td>\n",
       "      <td>Unmask the truth.</td>\n",
       "      <td>7.8</td>\n",
       "      <td>4637</td>\n",
       "      <td>Robert Pattinson-Zoë Kravitz-Paul Dano-Jeffrey...</td>\n",
       "      <td>crime fighter-secret identity-nightclub-politi...</td>\n",
       "    </tr>\n",
       "  </tbody>\n",
       "</table>\n",
       "</div>"
      ],
      "text/plain": [
       "       id                 title  \\\n",
       "0  675353  Sonic the Hedgehog 2   \n",
       "1  752623         The Lost City   \n",
       "2  335787             Uncharted   \n",
       "3  639933          The Northman   \n",
       "4  414906            The Batman   \n",
       "\n",
       "                                           genres original_language  \\\n",
       "0  Action-Science Fiction-Comedy-Family-Adventure                en   \n",
       "1                 Action-Adventure-Comedy-Romance                en   \n",
       "2                                Action-Adventure                en   \n",
       "3         Action-Adventure-Drama-Fantasy-Thriller                en   \n",
       "4                          Crime-Mystery-Thriller                en   \n",
       "\n",
       "                                            overview  popularity  \\\n",
       "0  After settling in Green Hills Sonic is eager t...    6852.303   \n",
       "1  A reclusive romance novelist who was sure noth...    5805.799   \n",
       "2  A young street-smart Nathan Drake and his wise...    3581.549   \n",
       "3  Prince Amleth is on the verge of becoming a ma...    3451.658   \n",
       "4  In his second year of fighting crime Batman un...    3419.546   \n",
       "\n",
       "                                production_companies release_date     budget  \\\n",
       "0  SEGA-Original Film-Blur Studios-Marza Animatio...   30-03-2022  110000000   \n",
       "1  Paramount-Fortis Films-3dot Productions-Exhibi...   24-03-2022   74000000   \n",
       "2  Columbia Pictures-Atlas Entertainment-PlayStat...   10-02-2022  120000000   \n",
       "3  New Regency Pictures-Focus Features-Perfect Wo...   07-04-2022   70000000   \n",
       "4  6th & Idaho-Dylan Clark Productions-DC Films-W...   01-03-2022  185000000   \n",
       "\n",
       "     revenue  runtime    status                                     tagline  \\\n",
       "0  355200000    122.0  Released                  Welcome to the next level.   \n",
       "1  164289828    112.0  Released  The adventure is real. The heroes are not.   \n",
       "2  395124202    116.0  Released                    Fortune favors the bold.   \n",
       "3   58120000    137.0  Released                          Conquer your fate.   \n",
       "4  768442517    176.0  Released                           Unmask the truth.   \n",
       "\n",
       "   vote_average  vote_count  \\\n",
       "0           7.7        1465   \n",
       "1           6.7         604   \n",
       "2           7.2        1981   \n",
       "3           7.6         926   \n",
       "4           7.8        4637   \n",
       "\n",
       "                                             credits  \\\n",
       "0  Ben Schwartz-Idris Elba-Colleen O'Shaughnessey...   \n",
       "1  Sandra Bullock-Channing Tatum-Daniel Radcliffe...   \n",
       "2  Tom Holland-Mark Wahlberg-Sophia Ali-Tati Gabr...   \n",
       "3  Alexander Skarsgård-Nicole Kidman-Claes Bang-E...   \n",
       "4  Robert Pattinson-Zoë Kravitz-Paul Dano-Jeffrey...   \n",
       "\n",
       "                                            keywords  \n",
       "0  sequel-based on video game-hedgehog-live actio...  \n",
       "1                               duringcreditsstinger  \n",
       "2         treasure-treasure hunt-based on video game  \n",
       "3  sword-father murder-prince-iceland-viking-nort...  \n",
       "4  crime fighter-secret identity-nightclub-politi...  "
      ]
     },
     "execution_count": 56,
     "metadata": {},
     "output_type": "execute_result"
    }
   ],
   "source": [
    "df = pd.read_csv(\"movies.csv\")\n",
    "df.head()"
   ]
  },
  {
   "cell_type": "markdown",
   "metadata": {},
   "source": [
    "#### Checking the for null values in the dataset"
   ]
  },
  {
   "cell_type": "code",
   "execution_count": 57,
   "metadata": {},
   "outputs": [
    {
     "name": "stdout",
     "output_type": "stream",
     "text": [
      "<class 'pandas.core.frame.DataFrame'>\n",
      "RangeIndex: 780113 entries, 0 to 780112\n",
      "Data columns (total 17 columns):\n",
      " #   Column                Non-Null Count   Dtype  \n",
      "---  ------                --------------   -----  \n",
      " 0   id                    780113 non-null  int64  \n",
      " 1   title                 780109 non-null  object \n",
      " 2   genres                549671 non-null  object \n",
      " 3   original_language     780113 non-null  object \n",
      " 4   overview              653411 non-null  object \n",
      " 5   popularity            780113 non-null  float64\n",
      " 6   production_companies  364964 non-null  object \n",
      " 7   release_date          717304 non-null  object \n",
      " 8   budget                780113 non-null  int64  \n",
      " 9   revenue               780113 non-null  int64  \n",
      " 10  runtime               738484 non-null  float64\n",
      " 11  status                780113 non-null  object \n",
      " 12  tagline               116972 non-null  object \n",
      " 13  vote_average          780113 non-null  float64\n",
      " 14  vote_count            780113 non-null  int64  \n",
      " 15  credits               542214 non-null  object \n",
      " 16  keywords              228104 non-null  object \n",
      "dtypes: float64(3), int64(4), object(10)\n",
      "memory usage: 101.2+ MB\n"
     ]
    }
   ],
   "source": [
    "df.info()"
   ]
  },
  {
   "cell_type": "code",
   "execution_count": 58,
   "metadata": {},
   "outputs": [
    {
     "data": {
      "text/plain": [
       "(780113, 17)"
      ]
     },
     "execution_count": 58,
     "metadata": {},
     "output_type": "execute_result"
    }
   ],
   "source": [
    "df.shape"
   ]
  },
  {
   "cell_type": "markdown",
   "metadata": {},
   "source": [
    "### Missivalues in the dataset"
   ]
  },
  {
   "cell_type": "code",
   "execution_count": 59,
   "metadata": {},
   "outputs": [
    {
     "data": {
      "text/plain": [
       "id                           0\n",
       "title                        4\n",
       "genres                  230442\n",
       "original_language            0\n",
       "overview                126702\n",
       "popularity                   0\n",
       "production_companies    415149\n",
       "release_date             62809\n",
       "budget                       0\n",
       "revenue                      0\n",
       "runtime                  41629\n",
       "status                       0\n",
       "tagline                 663141\n",
       "vote_average                 0\n",
       "vote_count                   0\n",
       "credits                 237899\n",
       "keywords                552009\n",
       "dtype: int64"
      ]
     },
     "execution_count": 59,
     "metadata": {},
     "output_type": "execute_result"
    }
   ],
   "source": [
    "df.isna().sum()"
   ]
  },
  {
   "cell_type": "markdown",
   "metadata": {},
   "source": [
    "### visualizing the missing values "
   ]
  },
  {
   "cell_type": "code",
   "execution_count": 60,
   "metadata": {},
   "outputs": [
    {
     "data": {
      "text/plain": [
       "<AxesSubplot:>"
      ]
     },
     "execution_count": 60,
     "metadata": {},
     "output_type": "execute_result"
    },
    {
     "data": {
      "image/png": "[encoded data removed]",
      "text/plain": [
       "<Figure size 1440x720 with 1 Axes>"
      ]
     },
     "metadata": {
      "needs_background": "light"
     },
     "output_type": "display_data"
    }
   ],
   "source": [
    "fig = plt.figure(figsize=(20,10))\n",
    "sns.heatmap(df.isnull(),cbar=False,cmap='viridis')"
   ]
  },
  {
   "cell_type": "markdown",
   "metadata": {},
   "source": [
    "## Inference : The infernce from the above heatmap is that the yellow lines are the missing values in the data set."
   ]
  },
  {
   "cell_type": "code",
   "execution_count": 61,
   "metadata": {},
   "outputs": [
    {
     "name": "stdout",
     "output_type": "stream",
     "text": [
      "<class 'pandas.core.frame.DataFrame'>\n",
      "RangeIndex: 780113 entries, 0 to 780112\n",
      "Data columns (total 17 columns):\n",
      " #   Column                Non-Null Count   Dtype         \n",
      "---  ------                --------------   -----         \n",
      " 0   id                    780113 non-null  int64         \n",
      " 1   title                 780109 non-null  object        \n",
      " 2   genres                549671 non-null  object        \n",
      " 3   original_language     780113 non-null  object        \n",
      " 4   overview              653411 non-null  object        \n",
      " 5   popularity            780113 non-null  float64       \n",
      " 6   production_companies  364964 non-null  object        \n",
      " 7   release_date          717304 non-null  datetime64[ns]\n",
      " 8   budget                780113 non-null  int64         \n",
      " 9   revenue               780113 non-null  int64         \n",
      " 10  runtime               738484 non-null  float64       \n",
      " 11  status                780113 non-null  object        \n",
      " 12  tagline               116972 non-null  object        \n",
      " 13  vote_average          780113 non-null  float64       \n",
      " 14  vote_count            780113 non-null  int64         \n",
      " 15  credits               542214 non-null  object        \n",
      " 16  keywords              228104 non-null  object        \n",
      "dtypes: datetime64[ns](1), float64(3), int64(4), object(9)\n",
      "memory usage: 101.2+ MB\n"
     ]
    }
   ],
   "source": [
    "df['release_date'] = pd.to_datetime(df['release_date']) # converting the date to datetime format\n",
    "df.info()"
   ]
  },
  {
   "cell_type": "code",
   "execution_count": 62,
   "metadata": {},
   "outputs": [
    {
     "data": {
      "text/plain": [
       "Index(['id', 'title', 'genres', 'original_language', 'overview', 'popularity',\n",
       "       'production_companies', 'release_date', 'budget', 'revenue', 'runtime',\n",
       "       'status', 'tagline', 'vote_average', 'vote_count', 'credits',\n",
       "       'keywords'],\n",
       "      dtype='object')"
      ]
     },
     "execution_count": 62,
     "metadata": {},
     "output_type": "execute_result"
    }
   ],
   "source": [
    "df.columns"
   ]
  },
  {
   "cell_type": "code",
   "execution_count": 63,
   "metadata": {},
   "outputs": [
    {
     "data": {
      "text/plain": [
       "0.0     99.958557\n",
       "2.0      0.012545\n",
       "1.0      0.006944\n",
       "6.0      0.005824\n",
       "7.0      0.003584\n",
       "8.0      0.002464\n",
       "5.0      0.002464\n",
       "4.0      0.002016\n",
       "10.0     0.001792\n",
       "9.0      0.001344\n",
       "3.0      0.001344\n",
       "6.5      0.000672\n",
       "5.5      0.000448\n",
       "Name: vote_average, dtype: float64"
      ]
     },
     "execution_count": 63,
     "metadata": {},
     "output_type": "execute_result"
    }
   ],
   "source": [
    "df[df[\"vote_count\"] == 0][\"vote_average\"].value_counts(normalize=True)* 100 # showa the percentage of movies with 0 votes but with voting average % "
   ]
  },
  {
   "cell_type": "markdown",
   "metadata": {},
   "source": [
    "### Infernce : For vote count having zero (i.e no number of votes) for the movies how can it have a vote_average. so the 185 records are also considered as outliers."
   ]
  },
  {
   "cell_type": "code",
   "execution_count": 64,
   "metadata": {},
   "outputs": [
    {
     "data": {
      "text/html": [
       "<div>\n",
       "<style scoped>\n",
       "    .dataframe tbody tr th:only-of-type {\n",
       "        vertical-align: middle;\n",
       "    }\n",
       "\n",
       "    .dataframe tbody tr th {\n",
       "        vertical-align: top;\n",
       "    }\n",
       "\n",
       "    .dataframe thead th {\n",
       "        text-align: right;\n",
       "    }\n",
       "</style>\n",
       "<table border=\"1\" class=\"dataframe\">\n",
       "  <thead>\n",
       "    <tr style=\"text-align: right;\">\n",
       "      <th></th>\n",
       "      <th>id</th>\n",
       "      <th>title</th>\n",
       "      <th>genres</th>\n",
       "      <th>original_language</th>\n",
       "      <th>overview</th>\n",
       "      <th>popularity</th>\n",
       "      <th>production_companies</th>\n",
       "      <th>release_date</th>\n",
       "      <th>budget</th>\n",
       "      <th>revenue</th>\n",
       "      <th>runtime</th>\n",
       "      <th>status</th>\n",
       "      <th>tagline</th>\n",
       "      <th>vote_average</th>\n",
       "      <th>vote_count</th>\n",
       "      <th>credits</th>\n",
       "      <th>keywords</th>\n",
       "    </tr>\n",
       "  </thead>\n",
       "  <tbody>\n",
       "    <tr>\n",
       "      <th>27060</th>\n",
       "      <td>502490</td>\n",
       "      <td>Lolita per sempre</td>\n",
       "      <td>Drama</td>\n",
       "      <td>it</td>\n",
       "      <td>Photographer Cosmo a great provincial seducer ...</td>\n",
       "      <td>7.039</td>\n",
       "      <td>NaN</td>\n",
       "      <td>1991-02-02</td>\n",
       "      <td>0</td>\n",
       "      <td>0</td>\n",
       "      <td>73.0</td>\n",
       "      <td>Released</td>\n",
       "      <td>NaN</td>\n",
       "      <td>2.0</td>\n",
       "      <td>0</td>\n",
       "      <td>Petra Scharbach-Moris Brocci</td>\n",
       "      <td>erotic movie</td>\n",
       "    </tr>\n",
       "    <tr>\n",
       "      <th>49422</th>\n",
       "      <td>937127</td>\n",
       "      <td>How Did We Get Here?</td>\n",
       "      <td>Documentary</td>\n",
       "      <td>en</td>\n",
       "      <td>HOW DID WE GET HERE? is an intimate reflection...</td>\n",
       "      <td>4.264</td>\n",
       "      <td>Real Good Touring-Moment House-Shout! Factory</td>\n",
       "      <td>2022-02-28</td>\n",
       "      <td>0</td>\n",
       "      <td>0</td>\n",
       "      <td>83.0</td>\n",
       "      <td>Released</td>\n",
       "      <td>Let’s Go All the Way Back to the Very Beginning</td>\n",
       "      <td>10.0</td>\n",
       "      <td>0</td>\n",
       "      <td>Seán McLoughlin-Brent Lilley-Justin Tracey-JP ...</td>\n",
       "      <td>fame-gamer-youtube-social documentary-on tour-...</td>\n",
       "    </tr>\n",
       "    <tr>\n",
       "      <th>56049</th>\n",
       "      <td>937127</td>\n",
       "      <td>How Did We Get Here?</td>\n",
       "      <td>Documentary</td>\n",
       "      <td>en</td>\n",
       "      <td>HOW DID WE GET HERE? is an intimate reflection...</td>\n",
       "      <td>3.830</td>\n",
       "      <td>Real Good Touring-Moment House-Shout! Factory</td>\n",
       "      <td>2022-02-28</td>\n",
       "      <td>0</td>\n",
       "      <td>0</td>\n",
       "      <td>83.0</td>\n",
       "      <td>Released</td>\n",
       "      <td>Let’s Go All the Way Back to the Very Beginning</td>\n",
       "      <td>10.0</td>\n",
       "      <td>0</td>\n",
       "      <td>Seán McLoughlin-Brent Lilley-Justin Tracey-JP ...</td>\n",
       "      <td>fame-gamer-youtube-social documentary-on tour-...</td>\n",
       "    </tr>\n",
       "    <tr>\n",
       "      <th>63596</th>\n",
       "      <td>321740</td>\n",
       "      <td>Breeding Farm</td>\n",
       "      <td>Horror-TV Movie</td>\n",
       "      <td>en</td>\n",
       "      <td>After a night of partying four friends are kid...</td>\n",
       "      <td>3.442</td>\n",
       "      <td>Principalities Of Darkness</td>\n",
       "      <td>2013-01-13</td>\n",
       "      <td>0</td>\n",
       "      <td>0</td>\n",
       "      <td>85.0</td>\n",
       "      <td>Released</td>\n",
       "      <td>Stock Don't Talk.</td>\n",
       "      <td>2.0</td>\n",
       "      <td>0</td>\n",
       "      <td>Kerri Taylor-Melissa Constant-Angelina Leigh-E...</td>\n",
       "      <td>based on true story</td>\n",
       "    </tr>\n",
       "    <tr>\n",
       "      <th>64168</th>\n",
       "      <td>692436</td>\n",
       "      <td>Darkness Waits</td>\n",
       "      <td>Crime-Thriller-Horror-Mystery-Comedy</td>\n",
       "      <td>en</td>\n",
       "      <td>Five college students embark on a paranormal i...</td>\n",
       "      <td>3.416</td>\n",
       "      <td>Libmatic Films</td>\n",
       "      <td>2020-03-18</td>\n",
       "      <td>0</td>\n",
       "      <td>0</td>\n",
       "      <td>100.0</td>\n",
       "      <td>Released</td>\n",
       "      <td>When the righteous seek justice.</td>\n",
       "      <td>5.0</td>\n",
       "      <td>0</td>\n",
       "      <td>Waylon K. Smith-Emily Whitcomb-Scott Schiaffo-...</td>\n",
       "      <td>sheriff-pennsylvania usa-darkness-horror-thril...</td>\n",
       "    </tr>\n",
       "    <tr>\n",
       "      <th>...</th>\n",
       "      <td>...</td>\n",
       "      <td>...</td>\n",
       "      <td>...</td>\n",
       "      <td>...</td>\n",
       "      <td>...</td>\n",
       "      <td>...</td>\n",
       "      <td>...</td>\n",
       "      <td>...</td>\n",
       "      <td>...</td>\n",
       "      <td>...</td>\n",
       "      <td>...</td>\n",
       "      <td>...</td>\n",
       "      <td>...</td>\n",
       "      <td>...</td>\n",
       "      <td>...</td>\n",
       "      <td>...</td>\n",
       "      <td>...</td>\n",
       "    </tr>\n",
       "    <tr>\n",
       "      <th>758444</th>\n",
       "      <td>551376</td>\n",
       "      <td>Sei Jukujo</td>\n",
       "      <td>NaN</td>\n",
       "      <td>ja</td>\n",
       "      <td>1988 film.</td>\n",
       "      <td>0.600</td>\n",
       "      <td>Nikkatsu Corporation-Rolling 21</td>\n",
       "      <td>1988-09-04</td>\n",
       "      <td>0</td>\n",
       "      <td>0</td>\n",
       "      <td>62.0</td>\n",
       "      <td>Released</td>\n",
       "      <td>NaN</td>\n",
       "      <td>2.0</td>\n",
       "      <td>0</td>\n",
       "      <td>Masumi Itsuki-Marino Fujisawa-Koichi Ueda-Shir...</td>\n",
       "      <td>NaN</td>\n",
       "    </tr>\n",
       "    <tr>\n",
       "      <th>761697</th>\n",
       "      <td>552956</td>\n",
       "      <td>Deep Cuts</td>\n",
       "      <td>Drama</td>\n",
       "      <td>hr</td>\n",
       "      <td>The thematic framework of the anthology featur...</td>\n",
       "      <td>0.600</td>\n",
       "      <td>Kinematograf</td>\n",
       "      <td>2018-07-15</td>\n",
       "      <td>0</td>\n",
       "      <td>0</td>\n",
       "      <td>75.0</td>\n",
       "      <td>Released</td>\n",
       "      <td>NaN</td>\n",
       "      <td>8.0</td>\n",
       "      <td>0</td>\n",
       "      <td>Živko Anočić-Lily Antić-Lana Barić-Milivoj Bea...</td>\n",
       "      <td>NaN</td>\n",
       "    </tr>\n",
       "    <tr>\n",
       "      <th>762035</th>\n",
       "      <td>540318</td>\n",
       "      <td>Une petite femme dans le train</td>\n",
       "      <td>NaN</td>\n",
       "      <td>fr</td>\n",
       "      <td>Sophisticated romantic comedy of suspicious hu...</td>\n",
       "      <td>0.600</td>\n",
       "      <td>NaN</td>\n",
       "      <td>1932-09-30</td>\n",
       "      <td>0</td>\n",
       "      <td>0</td>\n",
       "      <td>90.0</td>\n",
       "      <td>Released</td>\n",
       "      <td>NaN</td>\n",
       "      <td>1.0</td>\n",
       "      <td>0</td>\n",
       "      <td>Henri Garat-Meg Lemonnier-Léon Belières-Pierre...</td>\n",
       "      <td>NaN</td>\n",
       "    </tr>\n",
       "    <tr>\n",
       "      <th>764281</th>\n",
       "      <td>504936</td>\n",
       "      <td>Belle</td>\n",
       "      <td>NaN</td>\n",
       "      <td>nl</td>\n",
       "      <td>A woman lives her life struggling against her ...</td>\n",
       "      <td>0.600</td>\n",
       "      <td>NaN</td>\n",
       "      <td>1993-04-02</td>\n",
       "      <td>0</td>\n",
       "      <td>0</td>\n",
       "      <td>99.0</td>\n",
       "      <td>Released</td>\n",
       "      <td>NaN</td>\n",
       "      <td>1.0</td>\n",
       "      <td>0</td>\n",
       "      <td>Wivineke van Groningen-Nelleke Zitman-Rosa Her...</td>\n",
       "      <td>NaN</td>\n",
       "    </tr>\n",
       "    <tr>\n",
       "      <th>765356</th>\n",
       "      <td>546245</td>\n",
       "      <td>The Death of a Composer: Rosa, a Horse Drama</td>\n",
       "      <td>TV Movie-Drama-Music-Western</td>\n",
       "      <td>en</td>\n",
       "      <td>\"Rosa\" with a libretto by Peter Greenaway and ...</td>\n",
       "      <td>0.600</td>\n",
       "      <td>Kasander Film Company</td>\n",
       "      <td>1999-04-09</td>\n",
       "      <td>0</td>\n",
       "      <td>0</td>\n",
       "      <td>90.0</td>\n",
       "      <td>Released</td>\n",
       "      <td>NaN</td>\n",
       "      <td>6.0</td>\n",
       "      <td>0</td>\n",
       "      <td>Lyndon Terracini-Miranda van Kralingen-Marie A...</td>\n",
       "      <td>opera</td>\n",
       "    </tr>\n",
       "  </tbody>\n",
       "</table>\n",
       "<p>185 rows × 17 columns</p>\n",
       "</div>"
      ],
      "text/plain": [
       "            id                                         title  \\\n",
       "27060   502490                             Lolita per sempre   \n",
       "49422   937127                          How Did We Get Here?   \n",
       "56049   937127                          How Did We Get Here?   \n",
       "63596   321740                                 Breeding Farm   \n",
       "64168   692436                                Darkness Waits   \n",
       "...        ...                                           ...   \n",
       "758444  551376                                    Sei Jukujo   \n",
       "761697  552956                                     Deep Cuts   \n",
       "762035  540318                Une petite femme dans le train   \n",
       "764281  504936                                         Belle   \n",
       "765356  546245  The Death of a Composer: Rosa, a Horse Drama   \n",
       "\n",
       "                                      genres original_language  \\\n",
       "27060                                  Drama                it   \n",
       "49422                            Documentary                en   \n",
       "56049                            Documentary                en   \n",
       "63596                        Horror-TV Movie                en   \n",
       "64168   Crime-Thriller-Horror-Mystery-Comedy                en   \n",
       "...                                      ...               ...   \n",
       "758444                                   NaN                ja   \n",
       "761697                                 Drama                hr   \n",
       "762035                                   NaN                fr   \n",
       "764281                                   NaN                nl   \n",
       "765356          TV Movie-Drama-Music-Western                en   \n",
       "\n",
       "                                                 overview  popularity  \\\n",
       "27060   Photographer Cosmo a great provincial seducer ...       7.039   \n",
       "49422   HOW DID WE GET HERE? is an intimate reflection...       4.264   \n",
       "56049   HOW DID WE GET HERE? is an intimate reflection...       3.830   \n",
       "63596   After a night of partying four friends are kid...       3.442   \n",
       "64168   Five college students embark on a paranormal i...       3.416   \n",
       "...                                                   ...         ...   \n",
       "758444                                         1988 film.       0.600   \n",
       "761697  The thematic framework of the anthology featur...       0.600   \n",
       "762035  Sophisticated romantic comedy of suspicious hu...       0.600   \n",
       "764281  A woman lives her life struggling against her ...       0.600   \n",
       "765356  \"Rosa\" with a libretto by Peter Greenaway and ...       0.600   \n",
       "\n",
       "                                 production_companies release_date  budget  \\\n",
       "27060                                             NaN   1991-02-02       0   \n",
       "49422   Real Good Touring-Moment House-Shout! Factory   2022-02-28       0   \n",
       "56049   Real Good Touring-Moment House-Shout! Factory   2022-02-28       0   \n",
       "63596                      Principalities Of Darkness   2013-01-13       0   \n",
       "64168                                  Libmatic Films   2020-03-18       0   \n",
       "...                                               ...          ...     ...   \n",
       "758444                Nikkatsu Corporation-Rolling 21   1988-09-04       0   \n",
       "761697                                   Kinematograf   2018-07-15       0   \n",
       "762035                                            NaN   1932-09-30       0   \n",
       "764281                                            NaN   1993-04-02       0   \n",
       "765356                          Kasander Film Company   1999-04-09       0   \n",
       "\n",
       "        revenue  runtime    status  \\\n",
       "27060         0     73.0  Released   \n",
       "49422         0     83.0  Released   \n",
       "56049         0     83.0  Released   \n",
       "63596         0     85.0  Released   \n",
       "64168         0    100.0  Released   \n",
       "...         ...      ...       ...   \n",
       "758444        0     62.0  Released   \n",
       "761697        0     75.0  Released   \n",
       "762035        0     90.0  Released   \n",
       "764281        0     99.0  Released   \n",
       "765356        0     90.0  Released   \n",
       "\n",
       "                                                tagline  vote_average  \\\n",
       "27060                                               NaN           2.0   \n",
       "49422   Let’s Go All the Way Back to the Very Beginning          10.0   \n",
       "56049   Let’s Go All the Way Back to the Very Beginning          10.0   \n",
       "63596                                 Stock Don't Talk.           2.0   \n",
       "64168                  When the righteous seek justice.           5.0   \n",
       "...                                                 ...           ...   \n",
       "758444                                              NaN           2.0   \n",
       "761697                                              NaN           8.0   \n",
       "762035                                              NaN           1.0   \n",
       "764281                                              NaN           1.0   \n",
       "765356                                              NaN           6.0   \n",
       "\n",
       "        vote_count                                            credits  \\\n",
       "27060            0                       Petra Scharbach-Moris Brocci   \n",
       "49422            0  Seán McLoughlin-Brent Lilley-Justin Tracey-JP ...   \n",
       "56049            0  Seán McLoughlin-Brent Lilley-Justin Tracey-JP ...   \n",
       "63596            0  Kerri Taylor-Melissa Constant-Angelina Leigh-E...   \n",
       "64168            0  Waylon K. Smith-Emily Whitcomb-Scott Schiaffo-...   \n",
       "...            ...                                                ...   \n",
       "758444           0  Masumi Itsuki-Marino Fujisawa-Koichi Ueda-Shir...   \n",
       "761697           0  Živko Anočić-Lily Antić-Lana Barić-Milivoj Bea...   \n",
       "762035           0  Henri Garat-Meg Lemonnier-Léon Belières-Pierre...   \n",
       "764281           0  Wivineke van Groningen-Nelleke Zitman-Rosa Her...   \n",
       "765356           0  Lyndon Terracini-Miranda van Kralingen-Marie A...   \n",
       "\n",
       "                                                 keywords  \n",
       "27060                                        erotic movie  \n",
       "49422   fame-gamer-youtube-social documentary-on tour-...  \n",
       "56049   fame-gamer-youtube-social documentary-on tour-...  \n",
       "63596                                 based on true story  \n",
       "64168   sheriff-pennsylvania usa-darkness-horror-thril...  \n",
       "...                                                   ...  \n",
       "758444                                                NaN  \n",
       "761697                                                NaN  \n",
       "762035                                                NaN  \n",
       "764281                                                NaN  \n",
       "765356                                              opera  \n",
       "\n",
       "[185 rows x 17 columns]"
      ]
     },
     "execution_count": 64,
     "metadata": {},
     "output_type": "execute_result"
    }
   ],
   "source": [
    "df[(df[\"vote_count\"] == 0) & (df[\"vote_average\"] >0)]"
   ]
  },
  {
   "cell_type": "code",
   "execution_count": 65,
   "metadata": {},
   "outputs": [
    {
     "data": {
      "text/plain": [
       "1202      74.837\n",
       "18226      9.233\n",
       "71502      3.121\n",
       "86320      2.655\n",
       "89774      2.566\n",
       "           ...  \n",
       "761809     0.600\n",
       "764349     0.600\n",
       "770754     0.600\n",
       "777887     0.600\n",
       "778064     0.600\n",
       "Name: popularity, Length: 192, dtype: float64"
      ]
     },
     "execution_count": 65,
     "metadata": {},
     "output_type": "execute_result"
    }
   ],
   "source": [
    "df[(df[\"status\"] == \"Canceled\")] [\"popularity\"] # show the popularity of movies that are canceled"
   ]
  },
  {
   "cell_type": "code",
   "execution_count": 66,
   "metadata": {},
   "outputs": [],
   "source": [
    "# sepearate the date into year, month, day, day_name\n",
    "df[\"year\"] = df[\"release_date\"].dt.year\n",
    "df['month'] = df[\"release_date\"].dt.month\n",
    "df['day'] = df[\"release_date\"].dt.day\n",
    "df[\"weekday_name\"] = df[\"release_date\"].dt.day_name()\n"
   ]
  },
  {
   "cell_type": "code",
   "execution_count": 16,
   "metadata": {},
   "outputs": [],
   "source": [
    "# change the weekday_name to a categorical variable\n",
    "df[\"weekday_name\"] = df[\"weekday_name\"].astype(\"category\")"
   ]
  },
  {
   "cell_type": "code",
   "execution_count": 17,
   "metadata": {},
   "outputs": [
    {
     "data": {
      "text/html": [
       "<div>\n",
       "<style scoped>\n",
       "    .dataframe tbody tr th:only-of-type {\n",
       "        vertical-align: middle;\n",
       "    }\n",
       "\n",
       "    .dataframe tbody tr th {\n",
       "        vertical-align: top;\n",
       "    }\n",
       "\n",
       "    .dataframe thead th {\n",
       "        text-align: right;\n",
       "    }\n",
       "</style>\n",
       "<table border=\"1\" class=\"dataframe\">\n",
       "  <thead>\n",
       "    <tr style=\"text-align: right;\">\n",
       "      <th></th>\n",
       "      <th>id</th>\n",
       "      <th>title</th>\n",
       "      <th>genres</th>\n",
       "      <th>original_language</th>\n",
       "      <th>overview</th>\n",
       "      <th>popularity</th>\n",
       "      <th>production_companies</th>\n",
       "      <th>release_date</th>\n",
       "      <th>budget</th>\n",
       "      <th>revenue</th>\n",
       "      <th>runtime</th>\n",
       "      <th>status</th>\n",
       "      <th>tagline</th>\n",
       "      <th>vote_average</th>\n",
       "      <th>vote_count</th>\n",
       "      <th>credits</th>\n",
       "      <th>keywords</th>\n",
       "      <th>year</th>\n",
       "      <th>month</th>\n",
       "      <th>day</th>\n",
       "      <th>weekday_name</th>\n",
       "    </tr>\n",
       "  </thead>\n",
       "  <tbody>\n",
       "    <tr>\n",
       "      <th>0</th>\n",
       "      <td>675353</td>\n",
       "      <td>Sonic the Hedgehog 2</td>\n",
       "      <td>Action-Science Fiction-Comedy-Family-Adventure</td>\n",
       "      <td>en</td>\n",
       "      <td>After settling in Green Hills Sonic is eager t...</td>\n",
       "      <td>6852.303</td>\n",
       "      <td>SEGA-Original Film-Blur Studios-Marza Animatio...</td>\n",
       "      <td>2022-03-30</td>\n",
       "      <td>110000000</td>\n",
       "      <td>355200000</td>\n",
       "      <td>122.0</td>\n",
       "      <td>Released</td>\n",
       "      <td>Welcome to the next level.</td>\n",
       "      <td>7.7</td>\n",
       "      <td>1465</td>\n",
       "      <td>Ben Schwartz-Idris Elba-Colleen O'Shaughnessey...</td>\n",
       "      <td>sequel-based on video game-hedgehog-live actio...</td>\n",
       "      <td>2022.0</td>\n",
       "      <td>3.0</td>\n",
       "      <td>30.0</td>\n",
       "      <td>Wednesday</td>\n",
       "    </tr>\n",
       "    <tr>\n",
       "      <th>1</th>\n",
       "      <td>752623</td>\n",
       "      <td>The Lost City</td>\n",
       "      <td>Action-Adventure-Comedy-Romance</td>\n",
       "      <td>en</td>\n",
       "      <td>A reclusive romance novelist who was sure noth...</td>\n",
       "      <td>5805.799</td>\n",
       "      <td>Paramount-Fortis Films-3dot Productions-Exhibi...</td>\n",
       "      <td>2022-03-24</td>\n",
       "      <td>74000000</td>\n",
       "      <td>164289828</td>\n",
       "      <td>112.0</td>\n",
       "      <td>Released</td>\n",
       "      <td>The adventure is real. The heroes are not.</td>\n",
       "      <td>6.7</td>\n",
       "      <td>604</td>\n",
       "      <td>Sandra Bullock-Channing Tatum-Daniel Radcliffe...</td>\n",
       "      <td>duringcreditsstinger</td>\n",
       "      <td>2022.0</td>\n",
       "      <td>3.0</td>\n",
       "      <td>24.0</td>\n",
       "      <td>Thursday</td>\n",
       "    </tr>\n",
       "    <tr>\n",
       "      <th>2</th>\n",
       "      <td>335787</td>\n",
       "      <td>Uncharted</td>\n",
       "      <td>Action-Adventure</td>\n",
       "      <td>en</td>\n",
       "      <td>A young street-smart Nathan Drake and his wise...</td>\n",
       "      <td>3581.549</td>\n",
       "      <td>Columbia Pictures-Atlas Entertainment-PlayStat...</td>\n",
       "      <td>2022-10-02</td>\n",
       "      <td>120000000</td>\n",
       "      <td>395124202</td>\n",
       "      <td>116.0</td>\n",
       "      <td>Released</td>\n",
       "      <td>Fortune favors the bold.</td>\n",
       "      <td>7.2</td>\n",
       "      <td>1981</td>\n",
       "      <td>Tom Holland-Mark Wahlberg-Sophia Ali-Tati Gabr...</td>\n",
       "      <td>treasure-treasure hunt-based on video game</td>\n",
       "      <td>2022.0</td>\n",
       "      <td>10.0</td>\n",
       "      <td>2.0</td>\n",
       "      <td>Sunday</td>\n",
       "    </tr>\n",
       "    <tr>\n",
       "      <th>3</th>\n",
       "      <td>639933</td>\n",
       "      <td>The Northman</td>\n",
       "      <td>Action-Adventure-Drama-Fantasy-Thriller</td>\n",
       "      <td>en</td>\n",
       "      <td>Prince Amleth is on the verge of becoming a ma...</td>\n",
       "      <td>3451.658</td>\n",
       "      <td>New Regency Pictures-Focus Features-Perfect Wo...</td>\n",
       "      <td>2022-07-04</td>\n",
       "      <td>70000000</td>\n",
       "      <td>58120000</td>\n",
       "      <td>137.0</td>\n",
       "      <td>Released</td>\n",
       "      <td>Conquer your fate.</td>\n",
       "      <td>7.6</td>\n",
       "      <td>926</td>\n",
       "      <td>Alexander Skarsgård-Nicole Kidman-Claes Bang-E...</td>\n",
       "      <td>sword-father murder-prince-iceland-viking-nort...</td>\n",
       "      <td>2022.0</td>\n",
       "      <td>7.0</td>\n",
       "      <td>4.0</td>\n",
       "      <td>Monday</td>\n",
       "    </tr>\n",
       "    <tr>\n",
       "      <th>4</th>\n",
       "      <td>414906</td>\n",
       "      <td>The Batman</td>\n",
       "      <td>Crime-Mystery-Thriller</td>\n",
       "      <td>en</td>\n",
       "      <td>In his second year of fighting crime Batman un...</td>\n",
       "      <td>3419.546</td>\n",
       "      <td>6th &amp; Idaho-Dylan Clark Productions-DC Films-W...</td>\n",
       "      <td>2022-01-03</td>\n",
       "      <td>185000000</td>\n",
       "      <td>768442517</td>\n",
       "      <td>176.0</td>\n",
       "      <td>Released</td>\n",
       "      <td>Unmask the truth.</td>\n",
       "      <td>7.8</td>\n",
       "      <td>4637</td>\n",
       "      <td>Robert Pattinson-Zoë Kravitz-Paul Dano-Jeffrey...</td>\n",
       "      <td>crime fighter-secret identity-nightclub-politi...</td>\n",
       "      <td>2022.0</td>\n",
       "      <td>1.0</td>\n",
       "      <td>3.0</td>\n",
       "      <td>Monday</td>\n",
       "    </tr>\n",
       "  </tbody>\n",
       "</table>\n",
       "</div>"
      ],
      "text/plain": [
       "       id                 title  \\\n",
       "0  675353  Sonic the Hedgehog 2   \n",
       "1  752623         The Lost City   \n",
       "2  335787             Uncharted   \n",
       "3  639933          The Northman   \n",
       "4  414906            The Batman   \n",
       "\n",
       "                                           genres original_language  \\\n",
       "0  Action-Science Fiction-Comedy-Family-Adventure                en   \n",
       "1                 Action-Adventure-Comedy-Romance                en   \n",
       "2                                Action-Adventure                en   \n",
       "3         Action-Adventure-Drama-Fantasy-Thriller                en   \n",
       "4                          Crime-Mystery-Thriller                en   \n",
       "\n",
       "                                            overview  popularity  \\\n",
       "0  After settling in Green Hills Sonic is eager t...    6852.303   \n",
       "1  A reclusive romance novelist who was sure noth...    5805.799   \n",
       "2  A young street-smart Nathan Drake and his wise...    3581.549   \n",
       "3  Prince Amleth is on the verge of becoming a ma...    3451.658   \n",
       "4  In his second year of fighting crime Batman un...    3419.546   \n",
       "\n",
       "                                production_companies release_date     budget  \\\n",
       "0  SEGA-Original Film-Blur Studios-Marza Animatio...   2022-03-30  110000000   \n",
       "1  Paramount-Fortis Films-3dot Productions-Exhibi...   2022-03-24   74000000   \n",
       "2  Columbia Pictures-Atlas Entertainment-PlayStat...   2022-10-02  120000000   \n",
       "3  New Regency Pictures-Focus Features-Perfect Wo...   2022-07-04   70000000   \n",
       "4  6th & Idaho-Dylan Clark Productions-DC Films-W...   2022-01-03  185000000   \n",
       "\n",
       "     revenue  runtime    status                                     tagline  \\\n",
       "0  355200000    122.0  Released                  Welcome to the next level.   \n",
       "1  164289828    112.0  Released  The adventure is real. The heroes are not.   \n",
       "2  395124202    116.0  Released                    Fortune favors the bold.   \n",
       "3   58120000    137.0  Released                          Conquer your fate.   \n",
       "4  768442517    176.0  Released                           Unmask the truth.   \n",
       "\n",
       "   vote_average  vote_count  \\\n",
       "0           7.7        1465   \n",
       "1           6.7         604   \n",
       "2           7.2        1981   \n",
       "3           7.6         926   \n",
       "4           7.8        4637   \n",
       "\n",
       "                                             credits  \\\n",
       "0  Ben Schwartz-Idris Elba-Colleen O'Shaughnessey...   \n",
       "1  Sandra Bullock-Channing Tatum-Daniel Radcliffe...   \n",
       "2  Tom Holland-Mark Wahlberg-Sophia Ali-Tati Gabr...   \n",
       "3  Alexander Skarsgård-Nicole Kidman-Claes Bang-E...   \n",
       "4  Robert Pattinson-Zoë Kravitz-Paul Dano-Jeffrey...   \n",
       "\n",
       "                                            keywords    year  month   day  \\\n",
       "0  sequel-based on video game-hedgehog-live actio...  2022.0    3.0  30.0   \n",
       "1                               duringcreditsstinger  2022.0    3.0  24.0   \n",
       "2         treasure-treasure hunt-based on video game  2022.0   10.0   2.0   \n",
       "3  sword-father murder-prince-iceland-viking-nort...  2022.0    7.0   4.0   \n",
       "4  crime fighter-secret identity-nightclub-politi...  2022.0    1.0   3.0   \n",
       "\n",
       "  weekday_name  \n",
       "0    Wednesday  \n",
       "1     Thursday  \n",
       "2       Sunday  \n",
       "3       Monday  \n",
       "4       Monday  "
      ]
     },
     "execution_count": 17,
     "metadata": {},
     "output_type": "execute_result"
    }
   ],
   "source": [
    "df.head()"
   ]
  },
  {
   "cell_type": "code",
   "execution_count": 18,
   "metadata": {},
   "outputs": [
    {
     "data": {
      "text/html": [
       "<div>\n",
       "<style scoped>\n",
       "    .dataframe tbody tr th:only-of-type {\n",
       "        vertical-align: middle;\n",
       "    }\n",
       "\n",
       "    .dataframe tbody tr th {\n",
       "        vertical-align: top;\n",
       "    }\n",
       "\n",
       "    .dataframe thead th {\n",
       "        text-align: right;\n",
       "    }\n",
       "</style>\n",
       "<table border=\"1\" class=\"dataframe\">\n",
       "  <thead>\n",
       "    <tr style=\"text-align: right;\">\n",
       "      <th></th>\n",
       "      <th>id</th>\n",
       "      <th>title</th>\n",
       "      <th>genres</th>\n",
       "      <th>original_language</th>\n",
       "      <th>overview</th>\n",
       "      <th>popularity</th>\n",
       "      <th>production_companies</th>\n",
       "      <th>release_date</th>\n",
       "      <th>budget</th>\n",
       "      <th>revenue</th>\n",
       "      <th>runtime</th>\n",
       "      <th>status</th>\n",
       "      <th>tagline</th>\n",
       "      <th>vote_average</th>\n",
       "      <th>vote_count</th>\n",
       "      <th>credits</th>\n",
       "      <th>keywords</th>\n",
       "      <th>year</th>\n",
       "      <th>month</th>\n",
       "      <th>day</th>\n",
       "      <th>weekday_name</th>\n",
       "      <th>profit/loss</th>\n",
       "    </tr>\n",
       "  </thead>\n",
       "  <tbody>\n",
       "    <tr>\n",
       "      <th>0</th>\n",
       "      <td>675353</td>\n",
       "      <td>Sonic the Hedgehog 2</td>\n",
       "      <td>Action-Science Fiction-Comedy-Family-Adventure</td>\n",
       "      <td>en</td>\n",
       "      <td>After settling in Green Hills Sonic is eager t...</td>\n",
       "      <td>6852.303</td>\n",
       "      <td>SEGA-Original Film-Blur Studios-Marza Animatio...</td>\n",
       "      <td>2022-03-30</td>\n",
       "      <td>110000000</td>\n",
       "      <td>355200000</td>\n",
       "      <td>122.0</td>\n",
       "      <td>Released</td>\n",
       "      <td>Welcome to the next level.</td>\n",
       "      <td>7.7</td>\n",
       "      <td>1465</td>\n",
       "      <td>Ben Schwartz-Idris Elba-Colleen O'Shaughnessey...</td>\n",
       "      <td>sequel-based on video game-hedgehog-live actio...</td>\n",
       "      <td>2022.0</td>\n",
       "      <td>3.0</td>\n",
       "      <td>30.0</td>\n",
       "      <td>Wednesday</td>\n",
       "      <td>245200000</td>\n",
       "    </tr>\n",
       "    <tr>\n",
       "      <th>1</th>\n",
       "      <td>752623</td>\n",
       "      <td>The Lost City</td>\n",
       "      <td>Action-Adventure-Comedy-Romance</td>\n",
       "      <td>en</td>\n",
       "      <td>A reclusive romance novelist who was sure noth...</td>\n",
       "      <td>5805.799</td>\n",
       "      <td>Paramount-Fortis Films-3dot Productions-Exhibi...</td>\n",
       "      <td>2022-03-24</td>\n",
       "      <td>74000000</td>\n",
       "      <td>164289828</td>\n",
       "      <td>112.0</td>\n",
       "      <td>Released</td>\n",
       "      <td>The adventure is real. The heroes are not.</td>\n",
       "      <td>6.7</td>\n",
       "      <td>604</td>\n",
       "      <td>Sandra Bullock-Channing Tatum-Daniel Radcliffe...</td>\n",
       "      <td>duringcreditsstinger</td>\n",
       "      <td>2022.0</td>\n",
       "      <td>3.0</td>\n",
       "      <td>24.0</td>\n",
       "      <td>Thursday</td>\n",
       "      <td>90289828</td>\n",
       "    </tr>\n",
       "    <tr>\n",
       "      <th>2</th>\n",
       "      <td>335787</td>\n",
       "      <td>Uncharted</td>\n",
       "      <td>Action-Adventure</td>\n",
       "      <td>en</td>\n",
       "      <td>A young street-smart Nathan Drake and his wise...</td>\n",
       "      <td>3581.549</td>\n",
       "      <td>Columbia Pictures-Atlas Entertainment-PlayStat...</td>\n",
       "      <td>2022-10-02</td>\n",
       "      <td>120000000</td>\n",
       "      <td>395124202</td>\n",
       "      <td>116.0</td>\n",
       "      <td>Released</td>\n",
       "      <td>Fortune favors the bold.</td>\n",
       "      <td>7.2</td>\n",
       "      <td>1981</td>\n",
       "      <td>Tom Holland-Mark Wahlberg-Sophia Ali-Tati Gabr...</td>\n",
       "      <td>treasure-treasure hunt-based on video game</td>\n",
       "      <td>2022.0</td>\n",
       "      <td>10.0</td>\n",
       "      <td>2.0</td>\n",
       "      <td>Sunday</td>\n",
       "      <td>275124202</td>\n",
       "    </tr>\n",
       "    <tr>\n",
       "      <th>3</th>\n",
       "      <td>639933</td>\n",
       "      <td>The Northman</td>\n",
       "      <td>Action-Adventure-Drama-Fantasy-Thriller</td>\n",
       "      <td>en</td>\n",
       "      <td>Prince Amleth is on the verge of becoming a ma...</td>\n",
       "      <td>3451.658</td>\n",
       "      <td>New Regency Pictures-Focus Features-Perfect Wo...</td>\n",
       "      <td>2022-07-04</td>\n",
       "      <td>70000000</td>\n",
       "      <td>58120000</td>\n",
       "      <td>137.0</td>\n",
       "      <td>Released</td>\n",
       "      <td>Conquer your fate.</td>\n",
       "      <td>7.6</td>\n",
       "      <td>926</td>\n",
       "      <td>Alexander Skarsgård-Nicole Kidman-Claes Bang-E...</td>\n",
       "      <td>sword-father murder-prince-iceland-viking-nort...</td>\n",
       "      <td>2022.0</td>\n",
       "      <td>7.0</td>\n",
       "      <td>4.0</td>\n",
       "      <td>Monday</td>\n",
       "      <td>-11880000</td>\n",
       "    </tr>\n",
       "    <tr>\n",
       "      <th>4</th>\n",
       "      <td>414906</td>\n",
       "      <td>The Batman</td>\n",
       "      <td>Crime-Mystery-Thriller</td>\n",
       "      <td>en</td>\n",
       "      <td>In his second year of fighting crime Batman un...</td>\n",
       "      <td>3419.546</td>\n",
       "      <td>6th &amp; Idaho-Dylan Clark Productions-DC Films-W...</td>\n",
       "      <td>2022-01-03</td>\n",
       "      <td>185000000</td>\n",
       "      <td>768442517</td>\n",
       "      <td>176.0</td>\n",
       "      <td>Released</td>\n",
       "      <td>Unmask the truth.</td>\n",
       "      <td>7.8</td>\n",
       "      <td>4637</td>\n",
       "      <td>Robert Pattinson-Zoë Kravitz-Paul Dano-Jeffrey...</td>\n",
       "      <td>crime fighter-secret identity-nightclub-politi...</td>\n",
       "      <td>2022.0</td>\n",
       "      <td>1.0</td>\n",
       "      <td>3.0</td>\n",
       "      <td>Monday</td>\n",
       "      <td>583442517</td>\n",
       "    </tr>\n",
       "  </tbody>\n",
       "</table>\n",
       "</div>"
      ],
      "text/plain": [
       "       id                 title  \\\n",
       "0  675353  Sonic the Hedgehog 2   \n",
       "1  752623         The Lost City   \n",
       "2  335787             Uncharted   \n",
       "3  639933          The Northman   \n",
       "4  414906            The Batman   \n",
       "\n",
       "                                           genres original_language  \\\n",
       "0  Action-Science Fiction-Comedy-Family-Adventure                en   \n",
       "1                 Action-Adventure-Comedy-Romance                en   \n",
       "2                                Action-Adventure                en   \n",
       "3         Action-Adventure-Drama-Fantasy-Thriller                en   \n",
       "4                          Crime-Mystery-Thriller                en   \n",
       "\n",
       "                                            overview  popularity  \\\n",
       "0  After settling in Green Hills Sonic is eager t...    6852.303   \n",
       "1  A reclusive romance novelist who was sure noth...    5805.799   \n",
       "2  A young street-smart Nathan Drake and his wise...    3581.549   \n",
       "3  Prince Amleth is on the verge of becoming a ma...    3451.658   \n",
       "4  In his second year of fighting crime Batman un...    3419.546   \n",
       "\n",
       "                                production_companies release_date     budget  \\\n",
       "0  SEGA-Original Film-Blur Studios-Marza Animatio...   2022-03-30  110000000   \n",
       "1  Paramount-Fortis Films-3dot Productions-Exhibi...   2022-03-24   74000000   \n",
       "2  Columbia Pictures-Atlas Entertainment-PlayStat...   2022-10-02  120000000   \n",
       "3  New Regency Pictures-Focus Features-Perfect Wo...   2022-07-04   70000000   \n",
       "4  6th & Idaho-Dylan Clark Productions-DC Films-W...   2022-01-03  185000000   \n",
       "\n",
       "     revenue  runtime    status                                     tagline  \\\n",
       "0  355200000    122.0  Released                  Welcome to the next level.   \n",
       "1  164289828    112.0  Released  The adventure is real. The heroes are not.   \n",
       "2  395124202    116.0  Released                    Fortune favors the bold.   \n",
       "3   58120000    137.0  Released                          Conquer your fate.   \n",
       "4  768442517    176.0  Released                           Unmask the truth.   \n",
       "\n",
       "   vote_average  vote_count  \\\n",
       "0           7.7        1465   \n",
       "1           6.7         604   \n",
       "2           7.2        1981   \n",
       "3           7.6         926   \n",
       "4           7.8        4637   \n",
       "\n",
       "                                             credits  \\\n",
       "0  Ben Schwartz-Idris Elba-Colleen O'Shaughnessey...   \n",
       "1  Sandra Bullock-Channing Tatum-Daniel Radcliffe...   \n",
       "2  Tom Holland-Mark Wahlberg-Sophia Ali-Tati Gabr...   \n",
       "3  Alexander Skarsgård-Nicole Kidman-Claes Bang-E...   \n",
       "4  Robert Pattinson-Zoë Kravitz-Paul Dano-Jeffrey...   \n",
       "\n",
       "                                            keywords    year  month   day  \\\n",
       "0  sequel-based on video game-hedgehog-live actio...  2022.0    3.0  30.0   \n",
       "1                               duringcreditsstinger  2022.0    3.0  24.0   \n",
       "2         treasure-treasure hunt-based on video game  2022.0   10.0   2.0   \n",
       "3  sword-father murder-prince-iceland-viking-nort...  2022.0    7.0   4.0   \n",
       "4  crime fighter-secret identity-nightclub-politi...  2022.0    1.0   3.0   \n",
       "\n",
       "  weekday_name  profit/loss  \n",
       "0    Wednesday    245200000  \n",
       "1     Thursday     90289828  \n",
       "2       Sunday    275124202  \n",
       "3       Monday    -11880000  \n",
       "4       Monday    583442517  "
      ]
     },
     "execution_count": 18,
     "metadata": {},
     "output_type": "execute_result"
    }
   ],
   "source": [
    "# created a column profit that is the difference between the budget and the revenue\n",
    "df[\"profit/loss\"] = df[\"revenue\"] - df[\"budget\"]\n",
    "df.head()"
   ]
  },
  {
   "cell_type": "code",
   "execution_count": 68,
   "metadata": {},
   "outputs": [
    {
     "name": "stdout",
     "output_type": "stream",
     "text": [
      "<class 'pandas.core.frame.DataFrame'>\n",
      "RangeIndex: 780113 entries, 0 to 780112\n",
      "Data columns (total 21 columns):\n",
      " #   Column                Non-Null Count   Dtype         \n",
      "---  ------                --------------   -----         \n",
      " 0   id                    780113 non-null  int64         \n",
      " 1   title                 780109 non-null  object        \n",
      " 2   genres                549671 non-null  object        \n",
      " 3   original_language     780113 non-null  object        \n",
      " 4   overview              653411 non-null  object        \n",
      " 5   popularity            780113 non-null  float64       \n",
      " 6   production_companies  364964 non-null  object        \n",
      " 7   release_date          717304 non-null  datetime64[ns]\n",
      " 8   budget                780113 non-null  int64         \n",
      " 9   revenue               780113 non-null  int64         \n",
      " 10  runtime               738484 non-null  float64       \n",
      " 11  status                780113 non-null  object        \n",
      " 12  tagline               116972 non-null  object        \n",
      " 13  vote_average          780113 non-null  float64       \n",
      " 14  vote_count            780113 non-null  int64         \n",
      " 15  credits               542214 non-null  object        \n",
      " 16  keywords              228104 non-null  object        \n",
      " 17  year                  717304 non-null  float64       \n",
      " 18  month                 717304 non-null  float64       \n",
      " 19  day                   717304 non-null  float64       \n",
      " 20  weekday_name          717304 non-null  object        \n",
      "dtypes: datetime64[ns](1), float64(6), int64(4), object(10)\n",
      "memory usage: 125.0+ MB\n"
     ]
    }
   ],
   "source": [
    "df.info()"
   ]
  },
  {
   "cell_type": "markdown",
   "metadata": {},
   "source": [
    "## univariate analysis"
   ]
  },
  {
   "cell_type": "code",
   "execution_count": 69,
   "metadata": {},
   "outputs": [
    {
     "data": {
      "text/plain": [
       "<AxesSubplot:xlabel='original_language', ylabel='count'>"
      ]
     },
     "execution_count": 69,
     "metadata": {},
     "output_type": "execute_result"
    },
    {
     "data": {
      "image/png": "[encoded data removed]",
      "text/plain": [
       "<Figure size 720x360 with 1 Axes>"
      ]
     },
     "metadata": {
      "needs_background": "light"
     },
     "output_type": "display_data"
    }
   ],
   "source": [
    "#  count plot for the number of top 10 original_language\n",
    "fig = plt.figure(figsize = (10,5))\n",
    "sns.countplot(x = \"original_language\", data = df, palette = \"rainbow\", order = df[\"original_language\"].value_counts().index[:10])"
   ]
  },
  {
   "cell_type": "markdown",
   "metadata": {},
   "source": [
    "### Inference : The above graph shows that count of english (en) movies is very much higher when compared to other language movies. "
   ]
  },
  {
   "cell_type": "code",
   "execution_count": 23,
   "metadata": {},
   "outputs": [
    {
     "data": {
      "text/plain": [
       "<AxesSubplot:xlabel='genres', ylabel='count'>"
      ]
     },
     "execution_count": 23,
     "metadata": {},
     "output_type": "execute_result"
    },
    {
     "data": {
      "image/png": "[encoded data removed]",
      "text/plain": [
       "<Figure size 1080x360 with 1 Axes>"
      ]
     },
     "metadata": {
      "needs_background": "light"
     },
     "output_type": "display_data"
    }
   ],
   "source": [
    "# count plot for the number of top 10 genres\n",
    "fig = plt.figure(figsize = (15,5))\n",
    "sns.countplot(x = \"genres\", data = df, order = df[\"genres\"].value_counts().head(10).index)"
   ]
  },
  {
   "cell_type": "markdown",
   "metadata": {},
   "source": [
    "### Infernece : The above graph shows that the top 10 genres of all the movies in which documentary , drama , comedy are the top 3 genres of movies"
   ]
  },
  {
   "cell_type": "code",
   "execution_count": 70,
   "metadata": {},
   "outputs": [
    {
     "data": {
      "text/plain": [
       "Released           770374\n",
       "Planned              3357\n",
       "In Production        3356\n",
       "Post Production      2648\n",
       "Canceled              192\n",
       "Rumored               186\n",
       "Name: status, dtype: int64"
      ]
     },
     "execution_count": 70,
     "metadata": {},
     "output_type": "execute_result"
    }
   ],
   "source": [
    "df['status'].value_counts() # shows the count of the status of the movies"
   ]
  },
  {
   "cell_type": "code",
   "execution_count": 25,
   "metadata": {},
   "outputs": [
    {
     "data": {
      "text/plain": [
       "<AxesSubplot:xlabel='weekday_name', ylabel='count'>"
      ]
     },
     "execution_count": 25,
     "metadata": {},
     "output_type": "execute_result"
    },
    {
     "data": {
      "image/png": "[encoded data removed]",
      "text/plain": [
       "<Figure size 1080x360 with 1 Axes>"
      ]
     },
     "metadata": {
      "needs_background": "light"
     },
     "output_type": "display_data"
    }
   ],
   "source": [
    "fig = plt.figure(figsize = (15,5))\n",
    "sns.countplot(x = \"weekday_name\", data = df, order = df[\"weekday_name\"].value_counts().index)"
   ]
  },
  {
   "cell_type": "markdown",
   "metadata": {},
   "source": [
    "### This graph provides the information of on which weekdays the movies counts were higher "
   ]
  },
  {
   "cell_type": "markdown",
   "metadata": {},
   "source": [
    "## Bivariate Analysis"
   ]
  },
  {
   "cell_type": "code",
   "execution_count": 26,
   "metadata": {},
   "outputs": [
    {
     "data": {
      "image/png": "[encoded data removed]",
      "text/plain": [
       "<Figure size 720x1080 with 1 Axes>"
      ]
     },
     "metadata": {},
     "output_type": "display_data"
    }
   ],
   "source": [
    "fig = plt.figure(figsize = (10,15))\n",
    "plt.pie(x = df[\"production_companies\"].value_counts().head(10) ,startangle = 90 , explode= (0.1,0,0,0,0,0,0,0,0,0), labels = df[\"production_companies\"].value_counts().head(10).index, autopct = \"%1.1f%%\")\n",
    "plt.show()"
   ]
  },
  {
   "cell_type": "markdown",
   "metadata": {},
   "source": [
    "### The above pie chart shows that the top 10 production company made how much of movies in percentage"
   ]
  },
  {
   "cell_type": "code",
   "execution_count": 27,
   "metadata": {},
   "outputs": [
    {
     "data": {
      "text/plain": [
       "<AxesSubplot:xlabel='status', ylabel='popularity'>"
      ]
     },
     "execution_count": 27,
     "metadata": {},
     "output_type": "execute_result"
    },
    {
     "data": {
      "image/png": "[encoded data removed]",
      "text/plain": [
       "<Figure size 1080x720 with 1 Axes>"
      ]
     },
     "metadata": {
      "needs_background": "light"
     },
     "output_type": "display_data"
    }
   ],
   "source": [
    "# bar plot for the number of top status\n",
    "fig = plt.figure(figsize = (15,10))\n",
    "sns.barplot(x = \"status\", y = \"popularity\", data = df, order = df[\"status\"].value_counts().index)"
   ]
  },
  {
   "cell_type": "markdown",
   "metadata": {},
   "source": [
    "### The above graph shows that on what staus of the movie the popularity of the movie was high. This shows that \"In - Production \" movie status had the more popularity than the released."
   ]
  },
  {
   "cell_type": "code",
   "execution_count": 28,
   "metadata": {},
   "outputs": [
    {
     "data": {
      "text/plain": [
       "<seaborn.axisgrid.FacetGrid at 0x2adc37b5fd0>"
      ]
     },
     "execution_count": 28,
     "metadata": {},
     "output_type": "execute_result"
    },
    {
     "data": {
      "text/plain": [
       "<Figure size 1440x1440 with 0 Axes>"
      ]
     },
     "metadata": {},
     "output_type": "display_data"
    },
    {
     "data": {
      "image/png": "[encoded data removed]",
      "text/plain": [
       "<Figure size 360x360 with 1 Axes>"
      ]
     },
     "metadata": {
      "needs_background": "light"
     },
     "output_type": "display_data"
    }
   ],
   "source": [
    "plt.figure(figsize = (20,20))\n",
    "sns.catplot(x = \"weekday_name\", y = \"revenue\", data = df, kind = \"bar\", palette = \"coolwarm\")"
   ]
  },
  {
   "cell_type": "markdown",
   "metadata": {},
   "source": [
    "### The above graph shows that on which week days the total revenue of the movies were higher."
   ]
  },
  {
   "cell_type": "code",
   "execution_count": 71,
   "metadata": {},
   "outputs": [
    {
     "data": {
      "text/plain": [
       "<AxesSubplot:xlabel='runtime', ylabel='popularity'>"
      ]
     },
     "execution_count": 71,
     "metadata": {},
     "output_type": "execute_result"
    },
    {
     "data": {
      "image/png": "[encoded data removed]",
      "text/plain": [
       "<Figure size 1080x360 with 1 Axes>"
      ]
     },
     "metadata": {
      "needs_background": "light"
     },
     "output_type": "display_data"
    }
   ],
   "source": [
    "fig = plt.figure(figsize = (15,5))\n",
    "sns.barplot(x = \"runtime\", y = \"popularity\", data = df, order = df[\"runtime\"].value_counts().head(10).index)"
   ]
  },
  {
   "cell_type": "markdown",
   "metadata": {},
   "source": [
    "### The above graph shows that the information about the movie run time with the popularity of the movie"
   ]
  },
  {
   "cell_type": "markdown",
   "metadata": {},
   "source": [
    "### Selecting the top 10 production companies"
   ]
  },
  {
   "cell_type": "code",
   "execution_count": 30,
   "metadata": {},
   "outputs": [
    {
     "data": {
      "text/plain": [
       "Metro-Goldwyn-Mayer      2122\n",
       "BBC                      1994\n",
       "Warner Bros. Pictures    1933\n",
       "Toei Company             1869\n",
       "Columbia Pictures        1851\n",
       "ONF | NFB                1743\n",
       "Universal Pictures       1632\n",
       "Paramount                1578\n",
       "Nikkatsu Corporation     1421\n",
       "Mosfilm                  1178\n",
       "Name: production_companies, dtype: int64"
      ]
     },
     "execution_count": 30,
     "metadata": {},
     "output_type": "execute_result"
    }
   ],
   "source": [
    "top_10_prod_companies = list(df['production_companies'].value_counts().index[:10])\n",
    "values  = df['production_companies'].value_counts().head(10)\n",
    "values"
   ]
  },
  {
   "cell_type": "markdown",
   "metadata": {},
   "source": [
    "### The below graph shows that the revenue made by the top 10 production companies. This shows that the top 7th production company made bigger profit when compared to other top production companies"
   ]
  },
  {
   "cell_type": "code",
   "execution_count": 31,
   "metadata": {},
   "outputs": [
    {
     "data": {
      "text/plain": [
       "<AxesSubplot:xlabel='revenue', ylabel='production_companies'>"
      ]
     },
     "execution_count": 31,
     "metadata": {},
     "output_type": "execute_result"
    },
    {
     "data": {
      "image/png": "[encoded data removed]",
      "text/plain": [
       "<Figure size 1080x720 with 1 Axes>"
      ]
     },
     "metadata": {
      "needs_background": "light"
     },
     "output_type": "display_data"
    }
   ],
   "source": [
    "fig = plt.figure(figsize = (15,10))\n",
    "sns.barplot(y = \"production_companies\", x = \"revenue\", data = df, order = top_10_prod_companies , palette = \"coolwarm\")"
   ]
  },
  {
   "cell_type": "code",
   "execution_count": 33,
   "metadata": {},
   "outputs": [
    {
     "data": {
      "text/html": [
       "<div>\n",
       "<style scoped>\n",
       "    .dataframe tbody tr th:only-of-type {\n",
       "        vertical-align: middle;\n",
       "    }\n",
       "\n",
       "    .dataframe tbody tr th {\n",
       "        vertical-align: top;\n",
       "    }\n",
       "\n",
       "    .dataframe thead th {\n",
       "        text-align: right;\n",
       "    }\n",
       "</style>\n",
       "<table border=\"1\" class=\"dataframe\">\n",
       "  <thead>\n",
       "    <tr style=\"text-align: right;\">\n",
       "      <th></th>\n",
       "      <th>production_companies</th>\n",
       "      <th>profit/loss</th>\n",
       "    </tr>\n",
       "  </thead>\n",
       "  <tbody>\n",
       "    <tr>\n",
       "      <th>0</th>\n",
       "      <td>Marvel Studios</td>\n",
       "      <td>17479301347</td>\n",
       "    </tr>\n",
       "    <tr>\n",
       "      <th>1</th>\n",
       "      <td>Pixar-Walt Disney Pictures</td>\n",
       "      <td>5331959234</td>\n",
       "    </tr>\n",
       "    <tr>\n",
       "      <th>2</th>\n",
       "      <td>Walt Disney Pictures-Walt Disney Animation Stu...</td>\n",
       "      <td>4559013113</td>\n",
       "    </tr>\n",
       "    <tr>\n",
       "      <th>3</th>\n",
       "      <td>DreamWorks Animation</td>\n",
       "      <td>4508506139</td>\n",
       "    </tr>\n",
       "    <tr>\n",
       "      <th>4</th>\n",
       "      <td>Paramount</td>\n",
       "      <td>4341163016</td>\n",
       "    </tr>\n",
       "    <tr>\n",
       "      <th>5</th>\n",
       "      <td>Warner Bros. Pictures-Heyday Films</td>\n",
       "      <td>4022344923</td>\n",
       "    </tr>\n",
       "    <tr>\n",
       "      <th>6</th>\n",
       "      <td>Lucasfilm-20th Century Fox</td>\n",
       "      <td>3893229270</td>\n",
       "    </tr>\n",
       "    <tr>\n",
       "      <th>7</th>\n",
       "      <td>Walt Disney Pictures-Pixar</td>\n",
       "      <td>3847088923</td>\n",
       "    </tr>\n",
       "    <tr>\n",
       "      <th>8</th>\n",
       "      <td>Illumination Entertainment-Universal Pictures</td>\n",
       "      <td>3835678630</td>\n",
       "    </tr>\n",
       "    <tr>\n",
       "      <th>9</th>\n",
       "      <td>Blue Sky Studios-20th Century Fox Animation-20...</td>\n",
       "      <td>3788267303</td>\n",
       "    </tr>\n",
       "  </tbody>\n",
       "</table>\n",
       "</div>"
      ],
      "text/plain": [
       "                                production_companies  profit/loss\n",
       "0                                     Marvel Studios  17479301347\n",
       "1                         Pixar-Walt Disney Pictures   5331959234\n",
       "2  Walt Disney Pictures-Walt Disney Animation Stu...   4559013113\n",
       "3                               DreamWorks Animation   4508506139\n",
       "4                                          Paramount   4341163016\n",
       "5                 Warner Bros. Pictures-Heyday Films   4022344923\n",
       "6                         Lucasfilm-20th Century Fox   3893229270\n",
       "7                         Walt Disney Pictures-Pixar   3847088923\n",
       "8      Illumination Entertainment-Universal Pictures   3835678630\n",
       "9  Blue Sky Studios-20th Century Fox Animation-20...   3788267303"
      ]
     },
     "execution_count": 33,
     "metadata": {},
     "output_type": "execute_result"
    }
   ],
   "source": [
    "p = df.groupby(\"production_companies\")[\"profit/loss\"].sum().sort_values(ascending = False).head(10).reset_index(drop= False)\n",
    "\n",
    "p"
   ]
  },
  {
   "cell_type": "code",
   "execution_count": 34,
   "metadata": {},
   "outputs": [
    {
     "data": {
      "text/plain": [
       "<AxesSubplot:xlabel='profit/loss', ylabel='production_companies'>"
      ]
     },
     "execution_count": 34,
     "metadata": {},
     "output_type": "execute_result"
    },
    {
     "data": {
      "image/png": "[encoded data removed]",
      "text/plain": [
       "<Figure size 1080x720 with 1 Axes>"
      ]
     },
     "metadata": {
      "needs_background": "light"
     },
     "output_type": "display_data"
    }
   ],
   "source": [
    "fig = plt.figure(figsize = (15,10))\n",
    "sns.barplot(y =p[\"production_companies\"], x= p[\"profit/loss\"], palette = \"viridis\")"
   ]
  },
  {
   "cell_type": "markdown",
   "metadata": {},
   "source": [
    "### The above graph shows that the marvel studios production company made high profit compared to other production companies"
   ]
  },
  {
   "cell_type": "markdown",
   "metadata": {},
   "source": [
    "## Multi variate Analysis"
   ]
  },
  {
   "cell_type": "code",
   "execution_count": 35,
   "metadata": {},
   "outputs": [
    {
     "data": {
      "text/plain": [
       "<seaborn.axisgrid.FacetGrid at 0x2ad919e7550>"
      ]
     },
     "execution_count": 35,
     "metadata": {},
     "output_type": "execute_result"
    },
    {
     "data": {
      "text/plain": [
       "<Figure size 1080x360 with 0 Axes>"
      ]
     },
     "metadata": {},
     "output_type": "display_data"
    },
    {
     "data": {
      "image/png": "[encoded data removed]",
      "text/plain": [
       "<Figure size 457.375x360 with 1 Axes>"
      ]
     },
     "metadata": {
      "needs_background": "light"
     },
     "output_type": "display_data"
    }
   ],
   "source": [
    "h = df[\"original_language\"].value_counts().head(3).index\n",
    "fig = plt.figure(figsize = (15,5))\n",
    "sns.lmplot(x = \"vote_count\", y = \"revenue\", data = df, hue = \"original_language\", fit_reg = True, hue_order = h)"
   ]
  },
  {
   "cell_type": "markdown",
   "metadata": {},
   "source": [
    "### The above graph shows an increasing tred over the vote count when compared to revenue on the top 3 languges of the movies"
   ]
  },
  {
   "cell_type": "code",
   "execution_count": 37,
   "metadata": {},
   "outputs": [],
   "source": [
    "df_corr = df[['popularity', 'budget', 'revenue', 'vote_average', 'vote_count', 'runtime', 'profit/loss']].corr()"
   ]
  },
  {
   "cell_type": "code",
   "execution_count": 38,
   "metadata": {},
   "outputs": [
    {
     "data": {
      "text/plain": [
       "<AxesSubplot:>"
      ]
     },
     "execution_count": 38,
     "metadata": {},
     "output_type": "execute_result"
    },
    {
     "data": {
      "image/png": "[encoded data removed]",
      "text/plain": [
       "<Figure size 1080x1080 with 2 Axes>"
      ]
     },
     "metadata": {
      "needs_background": "light"
     },
     "output_type": "display_data"
    }
   ],
   "source": [
    "Fig = plt.figure(figsize = (15,15))\n",
    "sns.heatmap(df_corr.corr() , annot = True, cmap = \"coolwarm\")"
   ]
  },
  {
   "cell_type": "markdown",
   "metadata": {},
   "source": [
    "#### The above map shows the corelation between numeric variables of the dataset. This shows that vote count and revnue has high corelation."
   ]
  },
  {
   "cell_type": "code",
   "execution_count": null,
   "metadata": {},
   "outputs": [],
   "source": []
  },
  {
   "cell_type": "code",
   "execution_count": null,
   "metadata": {},
   "outputs": [],
   "source": []
  }
 ],
 "metadata": {
  "interpreter": {
   "hash": "dc07d24e2f18896857f0b2a651fe84ba40ce7b297e58d8804a308c8039f752a6"
  },
  "kernelspec": {
   "display_name": "Python 3.8.8 ('base')",
   "language": "python",
   "name": "python3"
  },
  "language_info": {
   "codemirror_mode": {
    "name": "ipython",
    "version": 3
   },
   "file_extension": ".py",
   "mimetype": "text/x-python",
   "name": "python",
   "nbconvert_exporter": "python",
   "pygments_lexer": "ipython3",
   "version": "3.8.8"
  },
  "orig_nbformat": 4
 },
 "nbformat": 4,
 "nbformat_minor": 2
}
